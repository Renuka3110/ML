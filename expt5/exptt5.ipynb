{
 "cells": [
  {
   "cell_type": "code",
   "execution_count": 1,
   "id": "50aac8e8-61fd-4c7b-9cbf-1c108d6ce9b0",
   "metadata": {},
   "outputs": [
    {
     "name": "stderr",
     "output_type": "stream",
     "text": [
      "Installing packages into 'C:/Users/HP/AppData/Local/R/win-library/4.4'\n",
      "(as 'lib' is unspecified)\n",
      "\n"
     ]
    },
    {
     "name": "stdout",
     "output_type": "stream",
     "text": [
      "package 'MASS' successfully unpacked and MD5 sums checked\n",
      "package 'e1071' successfully unpacked and MD5 sums checked\n",
      "package 'ggplot2' successfully unpacked and MD5 sums checked\n",
      "package 'caret' successfully unpacked and MD5 sums checked\n",
      "\n",
      "The downloaded binary packages are in\n",
      "\tC:\\Windows\\Temp\\RtmpiY8d0h\\downloaded_packages\n"
     ]
    },
    {
     "name": "stderr",
     "output_type": "stream",
     "text": [
      "Warning message:\n",
      "\"package 'MASS' was built under R version 4.4.1\"\n",
      "Warning message:\n",
      "\"package 'e1071' was built under R version 4.4.1\"\n",
      "Warning message:\n",
      "\"package 'ggplot2' was built under R version 4.4.1\"\n",
      "Warning message:\n",
      "\"package 'caret' was built under R version 4.4.1\"\n",
      "Loading required package: lattice\n",
      "\n"
     ]
    }
   ],
   "source": [
    "# Install packages if not already installed\n",
    "install.packages(c(\"MASS\", \"e1071\", \"ggplot2\", \"caret\"))\n",
    "\n",
    "# Load libraries\n",
    "library(MASS)   # For LDA and QDA\n",
    "library(e1071)  # For Naïve Bayes\n",
    "library(ggplot2)\n",
    "library(caret)  # For evaluation metrics\n"
   ]
  },
  {
   "cell_type": "code",
   "execution_count": 2,
   "id": "08b1f728-69d4-4de9-8ac8-93ca8d790ce3",
   "metadata": {},
   "outputs": [
    {
     "data": {
      "text/html": [
       "<table class=\"dataframe\">\n",
       "<caption>A data.frame: 6 × 6</caption>\n",
       "<thead>\n",
       "\t<tr><th></th><th scope=col>Open</th><th scope=col>High</th><th scope=col>Low</th><th scope=col>Close</th><th scope=col>Volume</th><th scope=col>Direction</th></tr>\n",
       "\t<tr><th></th><th scope=col>&lt;dbl&gt;</th><th scope=col>&lt;dbl&gt;</th><th scope=col>&lt;dbl&gt;</th><th scope=col>&lt;dbl&gt;</th><th scope=col>&lt;int&gt;</th><th scope=col>&lt;chr&gt;</th></tr>\n",
       "</thead>\n",
       "<tbody>\n",
       "\t<tr><th scope=row>1</th><td>106.85479</td><td>107.14570</td><td>109.62529</td><td> 96.99309</td><td>839</td><td>Down</td></tr>\n",
       "\t<tr><th scope=row>2</th><td> 97.17651</td><td>106.57387</td><td>100.62061</td><td> 99.32092</td><td>512</td><td>Up  </td></tr>\n",
       "\t<tr><th scope=row>3</th><td>101.81564</td><td>101.98772</td><td>102.85367</td><td> 95.06364</td><td>582</td><td>Down</td></tr>\n",
       "\t<tr><th scope=row>4</th><td>103.16431</td><td>102.68005</td><td> 99.88487</td><td>104.15963</td><td>711</td><td>Up  </td></tr>\n",
       "\t<tr><th scope=row>5</th><td>102.02134</td><td> 98.39923</td><td> 93.02033</td><td> 96.02470</td><td>686</td><td>Up  </td></tr>\n",
       "\t<tr><th scope=row>6</th><td> 99.46938</td><td>101.00938</td><td> 95.01259</td><td>101.70232</td><td>943</td><td>Down</td></tr>\n",
       "</tbody>\n",
       "</table>\n"
      ],
      "text/latex": [
       "A data.frame: 6 × 6\n",
       "\\begin{tabular}{r|llllll}\n",
       "  & Open & High & Low & Close & Volume & Direction\\\\\n",
       "  & <dbl> & <dbl> & <dbl> & <dbl> & <int> & <chr>\\\\\n",
       "\\hline\n",
       "\t1 & 106.85479 & 107.14570 & 109.62529 &  96.99309 & 839 & Down\\\\\n",
       "\t2 &  97.17651 & 106.57387 & 100.62061 &  99.32092 & 512 & Up  \\\\\n",
       "\t3 & 101.81564 & 101.98772 & 102.85367 &  95.06364 & 582 & Down\\\\\n",
       "\t4 & 103.16431 & 102.68005 &  99.88487 & 104.15963 & 711 & Up  \\\\\n",
       "\t5 & 102.02134 &  98.39923 &  93.02033 &  96.02470 & 686 & Up  \\\\\n",
       "\t6 &  99.46938 & 101.00938 &  95.01259 & 101.70232 & 943 & Down\\\\\n",
       "\\end{tabular}\n"
      ],
      "text/markdown": [
       "\n",
       "A data.frame: 6 × 6\n",
       "\n",
       "| <!--/--> | Open &lt;dbl&gt; | High &lt;dbl&gt; | Low &lt;dbl&gt; | Close &lt;dbl&gt; | Volume &lt;int&gt; | Direction &lt;chr&gt; |\n",
       "|---|---|---|---|---|---|---|\n",
       "| 1 | 106.85479 | 107.14570 | 109.62529 |  96.99309 | 839 | Down |\n",
       "| 2 |  97.17651 | 106.57387 | 100.62061 |  99.32092 | 512 | Up   |\n",
       "| 3 | 101.81564 | 101.98772 | 102.85367 |  95.06364 | 582 | Down |\n",
       "| 4 | 103.16431 | 102.68005 |  99.88487 | 104.15963 | 711 | Up   |\n",
       "| 5 | 102.02134 |  98.39923 |  93.02033 |  96.02470 | 686 | Up   |\n",
       "| 6 |  99.46938 | 101.00938 |  95.01259 | 101.70232 | 943 | Down |\n",
       "\n"
      ],
      "text/plain": [
       "  Open      High      Low       Close     Volume Direction\n",
       "1 106.85479 107.14570 109.62529  96.99309 839    Down     \n",
       "2  97.17651 106.57387 100.62061  99.32092 512    Up       \n",
       "3 101.81564 101.98772 102.85367  95.06364 582    Down     \n",
       "4 103.16431 102.68005  99.88487 104.15963 711    Up       \n",
       "5 102.02134  98.39923  93.02033  96.02470 686    Up       \n",
       "6  99.46938 101.00938  95.01259 101.70232 943    Down     "
      ]
     },
     "metadata": {},
     "output_type": "display_data"
    }
   ],
   "source": [
    "# Simulate some stock market data\n",
    "set.seed(42)\n",
    "n <- 500  # Number of observations\n",
    "data <- data.frame(\n",
    "  Open = rnorm(n, mean = 100, sd = 5),\n",
    "  High = rnorm(n, mean = 102, sd = 5),\n",
    "  Low = rnorm(n, mean = 98, sd = 5),\n",
    "  Close = rnorm(n, mean = 100, sd = 5),\n",
    "  Volume = sample(500:1000, n, replace = TRUE),\n",
    "  Direction = sample(c(\"Up\", \"Down\"), n, replace = TRUE)  # Target variable\n",
    ")\n",
    "\n",
    "head(data)\n"
   ]
  },
  {
   "cell_type": "code",
   "execution_count": 3,
   "id": "c142cf97-dd20-4387-83da-96017ebe30ea",
   "metadata": {},
   "outputs": [],
   "source": [
    "# Split data into 70% training and 30% testing\n",
    "set.seed(123)\n",
    "trainIndex <- createDataPartition(data$Direction, p = 0.7, list = FALSE)\n",
    "trainData <- data[trainIndex, ]\n",
    "testData <- data[-trainIndex, ]\n"
   ]
  },
  {
   "cell_type": "code",
   "execution_count": 4,
   "id": "f2dad64d-0b13-4ed3-8c14-b9c1ed9e4dd3",
   "metadata": {},
   "outputs": [],
   "source": [
    "lda_model <- lda(Direction ~ Open + High + Low + Close + Volume, data = trainData)\n",
    "lda_pred <- predict(lda_model, testData)$class\n",
    "qda_model <- qda(Direction ~ Open + High + Low + Close + Volume, data = trainData)\n",
    "qda_pred <- predict(qda_model, testData)$class\n",
    "nb_model <- naiveBayes(Direction ~ Open + High + Low + Close + Volume, data = trainData)\n",
    "nb_pred <- predict(nb_model, testData)\n"
   ]
  },
  {
   "cell_type": "code",
   "execution_count": 5,
   "id": "c91ae0c1-8228-4f31-88fb-e4413cc37115",
   "metadata": {},
   "outputs": [],
   "source": [
    "# Ensure actual values and predictions are factors with identical levels\n",
    "testData$Direction <- factor(testData$Direction)  # Ensure Direction is a factor\n",
    "\n",
    "lda_pred <- factor(lda_pred, levels = levels(testData$Direction))\n",
    "qda_pred <- factor(qda_pred, levels = levels(testData$Direction))\n",
    "nb_pred <- factor(nb_pred, levels = levels(testData$Direction))\n"
   ]
  },
  {
   "cell_type": "code",
   "execution_count": 6,
   "id": "30a51566-9919-4a5c-bf15-bdc214f5f860",
   "metadata": {},
   "outputs": [
    {
     "name": "stdout",
     "output_type": "stream",
     "text": [
      "LDA Accuracy: 0.5133333 \n",
      "QDA Accuracy: 0.54 \n",
      "Naïve Bayes Accuracy: 0.5133333 \n"
     ]
    }
   ],
   "source": [
    "# Generate confusion matrices\n",
    "lda_cm <- confusionMatrix(lda_pred, testData$Direction)\n",
    "qda_cm <- confusionMatrix(qda_pred, testData$Direction)\n",
    "nb_cm <- confusionMatrix(nb_pred, testData$Direction)\n",
    "\n",
    "# Print the accuracy of each model\n",
    "cat(\"LDA Accuracy:\", lda_cm$overall['Accuracy'], \"\\n\")\n",
    "cat(\"QDA Accuracy:\", qda_cm$overall['Accuracy'], \"\\n\")\n",
    "cat(\"Naïve Bayes Accuracy:\", nb_cm$overall['Accuracy'], \"\\n\")\n"
   ]
  },
  {
   "cell_type": "code",
   "execution_count": 7,
   "id": "1dd95a94-8acd-4780-b5b9-3891c38a8a99",
   "metadata": {},
   "outputs": [],
   "source": [
    "# Ensure testData$Direction is a factor\n",
    "testData$Direction <- factor(testData$Direction, levels = c(\"Up\", \"Down\"))\n",
    "\n",
    "# Align predictions with actual factor levels\n",
    "lda_pred <- factor(lda_pred, levels = levels(testData$Direction))\n",
    "qda_pred <- factor(qda_pred, levels = levels(testData$Direction))\n",
    "nb_pred <- factor(nb_pred, levels = levels(testData$Direction))\n"
   ]
  },
  {
   "cell_type": "code",
   "execution_count": 8,
   "id": "e85151df-5f88-4cf2-b27a-df5ed8efada0",
   "metadata": {},
   "outputs": [
    {
     "data": {
      "text/plain": [
       "        \n",
       "lda_pred Up Down\n",
       "    Up   16   20\n",
       "    Down 53   61"
      ]
     },
     "metadata": {},
     "output_type": "display_data"
    },
    {
     "data": {
      "text/plain": [
       "        \n",
       "qda_pred Up Down\n",
       "    Up   18   18\n",
       "    Down 51   63"
      ]
     },
     "metadata": {},
     "output_type": "display_data"
    },
    {
     "data": {
      "text/plain": [
       "       \n",
       "nb_pred Up Down\n",
       "   Up   14   18\n",
       "   Down 55   63"
      ]
     },
     "metadata": {},
     "output_type": "display_data"
    }
   ],
   "source": [
    "# Check distribution of predictions vs actual values\n",
    "table(lda_pred, testData$Direction)\n",
    "table(qda_pred, testData$Direction)\n",
    "table(nb_pred, testData$Direction)\n"
   ]
  },
  {
   "cell_type": "code",
   "execution_count": 9,
   "id": "8487e108-4a0e-4405-b35f-feb4833442a2",
   "metadata": {},
   "outputs": [
    {
     "name": "stdout",
     "output_type": "stream",
     "text": [
      "LDA Accuracy: 0.5133333 \n",
      "QDA Accuracy: 0.54 \n",
      "Naïve Bayes Accuracy: 0.5133333 \n"
     ]
    }
   ],
   "source": [
    "# Generate confusion matrices\n",
    "lda_cm <- confusionMatrix(lda_pred, testData$Direction)\n",
    "qda_cm <- confusionMatrix(qda_pred, testData$Direction)\n",
    "nb_cm <- confusionMatrix(nb_pred, testData$Direction)\n",
    "\n",
    "# Print accuracies\n",
    "cat(\"LDA Accuracy:\", lda_cm$overall['Accuracy'], \"\\n\")\n",
    "cat(\"QDA Accuracy:\", qda_cm$overall['Accuracy'], \"\\n\")\n",
    "cat(\"Naïve Bayes Accuracy:\", nb_cm$overall['Accuracy'], \"\\n\")\n"
   ]
  },
  {
   "cell_type": "code",
   "execution_count": 10,
   "id": "c4ddc35d-87bf-4fbe-820a-946fbc16493b",
   "metadata": {},
   "outputs": [
    {
     "data": {
      "image/png": "[encoded data removed]",
      "text/plain": [
       "plot without title"
      ]
     },
     "metadata": {
      "image/png": {
       "height": 420,
       "width": 420
      }
     },
     "output_type": "display_data"
    }
   ],
   "source": [
    "# Plot Confusion Matrix for LDA Predictions\n",
    "plot_conf_matrix <- function(cm, title) {\n",
    "  df <- as.data.frame(cm$table)\n",
    "  ggplot(df, aes(Prediction, Reference, fill = Freq)) +\n",
    "    geom_tile() +\n",
    "    geom_text(aes(label = Freq), color = \"white\", size = 5) +\n",
    "    scale_fill_gradient(low = \"blue\", high = \"red\") +\n",
    "    labs(title = title, x = \"Predicted\", y = \"Actual\")\n",
    "}\n",
    "\n",
    "plot_conf_matrix(lda_cm, \"LDA Confusion Matrix\")\n"
   ]
  },
  {
   "cell_type": "code",
   "execution_count": 11,
   "id": "c5c412a0-b1e6-4a31-badd-05612217f451",
   "metadata": {},
   "outputs": [
    {
     "name": "stdout",
     "output_type": "stream",
     "text": [
      "        Model  Accuracy\n",
      "1         LDA 0.5133333\n",
      "2         QDA 0.5400000\n",
      "3 Naive Bayes 0.5133333\n"
     ]
    }
   ],
   "source": [
    "accuracies <- data.frame(\n",
    "  Model = c(\"LDA\", \"QDA\", \"Naive Bayes\"),\n",
    "  Accuracy = c(lda_cm$overall['Accuracy'], \n",
    "               qda_cm$overall['Accuracy'], \n",
    "               nb_cm$overall['Accuracy'])\n",
    ")\n",
    "\n",
    "print(accuracies)\n"
   ]
  },
  {
   "cell_type": "code",
   "execution_count": null,
   "id": "23300050-927c-417c-8c65-52be10eb20e0",
   "metadata": {},
   "outputs": [],
   "source": []
  }
 ],
 "metadata": {
  "kernelspec": {
   "display_name": "R",
   "language": "R",
   "name": "ir"
  },
  "language_info": {
   "codemirror_mode": "r",
   "file_extension": ".r",
   "mimetype": "text/x-r-source",
   "name": "R",
   "pygments_lexer": "r",
   "version": "4.4.0"
  }
 },
 "nbformat": 4,
 "nbformat_minor": 5
}
