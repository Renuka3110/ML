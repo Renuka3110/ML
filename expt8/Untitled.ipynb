{
 "cells": [
  {
   "cell_type": "code",
   "execution_count": 1,
   "id": "0b22ad3e-b2a4-4f35-9574-96f7904bbbd1",
   "metadata": {},
   "outputs": [
    {
     "ename": "ERROR",
     "evalue": "Error in parse(text = x, srcfile = src): <text>:5:1: unexpected symbol\n4: plot(prcomp(USArrests)\n5: summary\n   ^\n",
     "output_type": "error",
     "traceback": [
      "Error in parse(text = x, srcfile = src): <text>:5:1: unexpected symbol\n4: plot(prcomp(USArrests)\n5: summary\n   ^\nTraceback:\n"
     ]
    }
   ],
   "source": [
    "USArrests[1:10,]\n",
    "#To perform PCA on USArrests data:\n",
    "prcomp(USArrests)\n",
    "plot(prcomp(USArrests)\n",
    "summary(prcomp(USArrests))\n",
    "plot(prcomp(USArrests,scale=T))\n",
    "summary(prcomp(USArrests,scale=T))\n",
    "prcomp(USArrests,scale=T)\n",
    "plot(prcomp(USArrests,scale=T)$x[,1:2])\n",
    "plot(prcomp(USArrests,scale=T)$x[,1:2],type=\"n\")\n",
    "text(prcomp(USArrests,scale=T)$x[,1:2],rownames(USArrests))\n",
    "biplot(prcomp(USArrests,scale=T))"
   ]
  },
  {
   "cell_type": "code",
   "execution_count": null,
   "id": "8113eca0-8358-48c4-af99-29757a2474d0",
   "metadata": {},
   "outputs": [],
   "source": []
  },
  {
   "cell_type": "code",
   "execution_count": null,
   "id": "8a3b2b8b-2ffe-4ad7-9e19-d170ca064476",
   "metadata": {},
   "outputs": [],
   "source": []
  }
 ],
 "metadata": {
  "kernelspec": {
   "display_name": "R",
   "language": "R",
   "name": "ir"
  },
  "language_info": {
   "codemirror_mode": "r",
   "file_extension": ".r",
   "mimetype": "text/x-r-source",
   "name": "R",
   "pygments_lexer": "r",
   "version": "4.4.0"
  }
 },
 "nbformat": 4,
 "nbformat_minor": 5
}
