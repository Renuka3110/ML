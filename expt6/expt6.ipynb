{
 "cells": [
  {
   "cell_type": "code",
   "execution_count": 1,
   "id": "2c70ef33-92a3-4f63-95ed-029aa392736d",
   "metadata": {},
   "outputs": [
    {
     "name": "stderr",
     "output_type": "stream",
     "text": [
      "Warning message:\n",
      "\"package 'rpart' was built under R version 4.4.1\"\n",
      "Warning message:\n",
      "\"package 'rpart.plot' was built under R version 4.4.1\"\n",
      "Warning message:\n",
      "\"package 'ISLR' was built under R version 4.4.1\"\n"
     ]
    },
    {
     "data": {
      "text/html": [
       "<style>\n",
       ".list-inline {list-style: none; margin:0; padding: 0}\n",
       ".list-inline>li {display: inline-block}\n",
       ".list-inline>li:not(:last-child)::after {content: \"\\00b7\"; padding: 0 .5ex}\n",
       "</style>\n",
       "<ol class=list-inline><li>'Auto'</li><li>'Caravan'</li><li>'Carseats'</li><li>'College'</li><li>'Credit'</li><li>'Default'</li><li>'Hitters'</li><li>'Khan'</li><li>'NCI60'</li><li>'OJ'</li><li>'Portfolio'</li><li>'Smarket'</li><li>'Wage'</li><li>'Weekly'</li></ol>\n"
      ],
      "text/latex": [
       "\\begin{enumerate*}\n",
       "\\item 'Auto'\n",
       "\\item 'Caravan'\n",
       "\\item 'Carseats'\n",
       "\\item 'College'\n",
       "\\item 'Credit'\n",
       "\\item 'Default'\n",
       "\\item 'Hitters'\n",
       "\\item 'Khan'\n",
       "\\item 'NCI60'\n",
       "\\item 'OJ'\n",
       "\\item 'Portfolio'\n",
       "\\item 'Smarket'\n",
       "\\item 'Wage'\n",
       "\\item 'Weekly'\n",
       "\\end{enumerate*}\n"
      ],
      "text/markdown": [
       "1. 'Auto'\n",
       "2. 'Caravan'\n",
       "3. 'Carseats'\n",
       "4. 'College'\n",
       "5. 'Credit'\n",
       "6. 'Default'\n",
       "7. 'Hitters'\n",
       "8. 'Khan'\n",
       "9. 'NCI60'\n",
       "10. 'OJ'\n",
       "11. 'Portfolio'\n",
       "12. 'Smarket'\n",
       "13. 'Wage'\n",
       "14. 'Weekly'\n",
       "\n",
       "\n"
      ],
      "text/plain": [
       " [1] \"Auto\"      \"Caravan\"   \"Carseats\"  \"College\"   \"Credit\"    \"Default\"  \n",
       " [7] \"Hitters\"   \"Khan\"      \"NCI60\"     \"OJ\"        \"Portfolio\" \"Smarket\"  \n",
       "[13] \"Wage\"      \"Weekly\"   "
      ]
     },
     "metadata": {},
     "output_type": "display_data"
    }
   ],
   "source": [
    "# For decision tree model\n",
    "library(rpart)\n",
    "# For data visualization\n",
    "library(rpart.plot)\n",
    "# Contains the data\n",
    "library(ISLR)\n",
    "# Get the list of data sets contained in package\n",
    "d <- data(package = \"ISLR\")\n",
    "d$results[, \"Item\"]"
   ]
  },
  {
   "cell_type": "code",
   "execution_count": 2,
   "id": "aff5327d-3ad4-42fa-8620-302cf945ce15",
   "metadata": {},
   "outputs": [
    {
     "data": {
      "text/html": [
       "<style>\n",
       ".list-inline {list-style: none; margin:0; padding: 0}\n",
       ".list-inline>li {display: inline-block}\n",
       ".list-inline>li:not(:last-child)::after {content: \"\\00b7\"; padding: 0 .5ex}\n",
       "</style>\n",
       "<ol class=list-inline><li>'Sales'</li><li>'CompPrice'</li><li>'Income'</li><li>'Advertising'</li><li>'Population'</li><li>'Price'</li><li>'ShelveLoc'</li><li>'Age'</li><li>'Education'</li><li>'Urban'</li><li>'US'</li></ol>\n"
      ],
      "text/latex": [
       "\\begin{enumerate*}\n",
       "\\item 'Sales'\n",
       "\\item 'CompPrice'\n",
       "\\item 'Income'\n",
       "\\item 'Advertising'\n",
       "\\item 'Population'\n",
       "\\item 'Price'\n",
       "\\item 'ShelveLoc'\n",
       "\\item 'Age'\n",
       "\\item 'Education'\n",
       "\\item 'Urban'\n",
       "\\item 'US'\n",
       "\\end{enumerate*}\n"
      ],
      "text/markdown": [
       "1. 'Sales'\n",
       "2. 'CompPrice'\n",
       "3. 'Income'\n",
       "4. 'Advertising'\n",
       "5. 'Population'\n",
       "6. 'Price'\n",
       "7. 'ShelveLoc'\n",
       "8. 'Age'\n",
       "9. 'Education'\n",
       "10. 'Urban'\n",
       "11. 'US'\n",
       "\n",
       "\n"
      ],
      "text/plain": [
       " [1] \"Sales\"       \"CompPrice\"   \"Income\"      \"Advertising\" \"Population\" \n",
       " [6] \"Price\"       \"ShelveLoc\"   \"Age\"         \"Education\"   \"Urban\"      \n",
       "[11] \"US\"         "
      ]
     },
     "metadata": {},
     "output_type": "display_data"
    }
   ],
   "source": [
    "data(Carseats)\n",
    "# Get the variable names\n",
    "names(Carseats)"
   ]
  },
  {
   "cell_type": "code",
   "execution_count": 3,
   "id": "2a40a98e-b734-49b4-a284-fc964edab631",
   "metadata": {},
   "outputs": [
    {
     "data": {
      "text/html": [
       "<style>\n",
       ".list-inline {list-style: none; margin:0; padding: 0}\n",
       ".list-inline>li {display: inline-block}\n",
       ".list-inline>li:not(:last-child)::after {content: \"\\00b7\"; padding: 0 .5ex}\n",
       "</style>\n",
       "<ol class=list-inline><li>400</li><li>11</li></ol>\n"
      ],
      "text/latex": [
       "\\begin{enumerate*}\n",
       "\\item 400\n",
       "\\item 11\n",
       "\\end{enumerate*}\n"
      ],
      "text/markdown": [
       "1. 400\n",
       "2. 11\n",
       "\n",
       "\n"
      ],
      "text/plain": [
       "[1] 400  11"
      ]
     },
     "metadata": {},
     "output_type": "display_data"
    }
   ],
   "source": [
    "dim(Carseats)"
   ]
  },
  {
   "cell_type": "code",
   "execution_count": 4,
   "id": "a6a1de5f-167b-4069-9249-306d2fa3e82c",
   "metadata": {},
   "outputs": [
    {
     "data": {
      "text/html": [
       "'factor'"
      ],
      "text/latex": [
       "'factor'"
      ],
      "text/markdown": [
       "'factor'"
      ],
      "text/plain": [
       "[1] \"factor\""
      ]
     },
     "metadata": {},
     "output_type": "display_data"
    }
   ],
   "source": [
    "# Creates a new binary variable, High.\n",
    "High = ifelse(Carseats$Sales <=8, \"No\", \"Yes\")\n",
    "# Add High to the data set.\n",
    "Carseats=data.frame(Carseats,High)\n",
    "# Remove the Sales variable from the data.\n",
    "Carseats.H <- Carseats[,-1]\n",
    "# Code High as a factor variable\n",
    "Carseats.H$High = as.factor(Carseats$High)\n",
    "class(Carseats.H$High)"
   ]
  },
  {
   "cell_type": "code",
   "execution_count": 5,
   "id": "bb148bb8-961f-4d2f-b3f7-2c1acf5d7e31",
   "metadata": {},
   "outputs": [
    {
     "data": {
      "text/plain": [
       "n= 200 \n",
       "\n",
       "node), split, n, loss, yval, (yprob)\n",
       "      * denotes terminal node\n",
       "\n",
       " 1) root 200 90 No (0.55000000 0.45000000)  \n",
       "   2) ShelveLoc=Bad,Medium 154 52 No (0.66233766 0.33766234)  \n",
       "     4) Price>=92.5 132 35 No (0.73484848 0.26515152)  \n",
       "       8) Advertising< 13.5 106 19 No (0.82075472 0.17924528) *\n",
       "       9) Advertising>=13.5 26 10 Yes (0.38461538 0.61538462)  \n",
       "        18) Age>=44 15  6 No (0.60000000 0.40000000) *\n",
       "        19) Age< 44 11  1 Yes (0.09090909 0.90909091) *\n",
       "     5) Price< 92.5 22  5 Yes (0.22727273 0.77272727) *\n",
       "   3) ShelveLoc=Good 46  8 Yes (0.17391304 0.82608696)  \n",
       "     6) Price>=135 7  2 No (0.71428571 0.28571429) *\n",
       "     7) Price< 135 39  3 Yes (0.07692308 0.92307692) *"
      ]
     },
     "metadata": {},
     "output_type": "display_data"
    }
   ],
   "source": [
    "set.seed(234)\n",
    "train = sample(1:nrow(Carseats.H), 200)\n",
    "Carseats.train=Carseats.H[train,]\n",
    "Carseats.test=Carseats.H[-train,]\n",
    "High.test=High[-train]\n",
    "fit.tree = rpart(High ~ ., data=Carseats.train, method = \"class\", cp=0.008)\n",
    "fit.tree"
   ]
  },
  {
   "cell_type": "code",
   "execution_count": 6,
   "id": "361e770e-e485-4142-916c-201d44fb6a3b",
   "metadata": {},
   "outputs": [
    {
     "data": {
      "image/png": "[encoded data removed]",
      "text/plain": [
       "plot without title"
      ]
     },
     "metadata": {
      "image/png": {
       "height": 420,
       "width": 420
      }
     },
     "output_type": "display_data"
    }
   ],
   "source": [
    "# Visualizing the unpruned tree\n",
    "rpart.plot(fit.tree)"
   ]
  },
  {
   "cell_type": "code",
   "execution_count": 7,
   "id": "661d43a2-6f57-4a22-a384-c3a68951d33a",
   "metadata": {},
   "outputs": [
    {
     "data": {
      "text/html": [
       "<style>\n",
       ".dl-inline {width: auto; margin:0; padding: 0}\n",
       ".dl-inline>dt, .dl-inline>dd {float: none; width: auto; display: inline-block}\n",
       ".dl-inline>dt::after {content: \":\\0020\"; padding-right: .5ex}\n",
       ".dl-inline>dt:not(:first-of-type) {padding-left: .5ex}\n",
       "</style><dl class=dl-inline><dt>ShelveLoc</dt><dd>16.8994918125353</dd><dt>Price</dt><dd>14.5382371251936</dd><dt>Advertising</dt><dd>8.54111520269325</dd><dt>Age</dt><dd>3.28951048951049</dd><dt>CompPrice</dt><dd>1.78045288045288</dd><dt>Income</dt><dd>1.49523204068659</dd><dt>Education</dt><dd>0.598092816274635</dd><dt>Population</dt><dd>0.299046408137318</dd></dl>\n"
      ],
      "text/latex": [
       "\\begin{description*}\n",
       "\\item[ShelveLoc] 16.8994918125353\n",
       "\\item[Price] 14.5382371251936\n",
       "\\item[Advertising] 8.54111520269325\n",
       "\\item[Age] 3.28951048951049\n",
       "\\item[CompPrice] 1.78045288045288\n",
       "\\item[Income] 1.49523204068659\n",
       "\\item[Education] 0.598092816274635\n",
       "\\item[Population] 0.299046408137318\n",
       "\\end{description*}\n"
      ],
      "text/markdown": [
       "ShelveLoc\n",
       ":   16.8994918125353Price\n",
       ":   14.5382371251936Advertising\n",
       ":   8.54111520269325Age\n",
       ":   3.28951048951049CompPrice\n",
       ":   1.78045288045288Income\n",
       ":   1.49523204068659Education\n",
       ":   0.598092816274635Population\n",
       ":   0.299046408137318\n",
       "\n"
      ],
      "text/plain": [
       "  ShelveLoc       Price Advertising         Age   CompPrice      Income \n",
       " 16.8994918  14.5382371   8.5411152   3.2895105   1.7804529   1.4952320 \n",
       "  Education  Population \n",
       "  0.5980928   0.2990464 "
      ]
     },
     "metadata": {},
     "output_type": "display_data"
    }
   ],
   "source": [
    "# Checking the order of variable importance\n",
    "fit.tree$variable.importance"
   ]
  },
  {
   "cell_type": "code",
   "execution_count": 8,
   "id": "09974f48-df69-4e84-adae-53066cc953fd",
   "metadata": {},
   "outputs": [
    {
     "data": {
      "text/plain": [
       "         High.test\n",
       "pred.tree  No Yes\n",
       "      No  110  32\n",
       "      Yes  16  42"
      ]
     },
     "metadata": {},
     "output_type": "display_data"
    }
   ],
   "source": [
    "pred.tree = predict(fit.tree, Carseats.test, type = \"class\")\n",
    "table(pred.tree,High.test)"
   ]
  },
  {
   "cell_type": "code",
   "execution_count": 9,
   "id": "8610102a-1cd6-410e-8f5d-6d16ece7ef81",
   "metadata": {},
   "outputs": [
    {
     "name": "stdout",
     "output_type": "stream",
     "text": [
      "\n",
      "Classification tree:\n",
      "rpart(formula = High ~ ., data = Carseats.train, method = \"class\", \n",
      "    cp = 0.008)\n",
      "\n",
      "Variables actually used in tree construction:\n",
      "[1] Advertising Age         Price       ShelveLoc  \n",
      "\n",
      "Root node error: 90/200 = 0.45\n",
      "\n",
      "n= 200 \n",
      "\n",
      "        CP nsplit rel error  xerror     xstd\n",
      "1 0.333333      0   1.00000 1.00000 0.078174\n",
      "2 0.133333      1   0.66667 0.66667 0.072008\n",
      "3 0.066667      2   0.53333 0.60000 0.069761\n",
      "4 0.033333      3   0.46667 0.54444 0.067582\n",
      "5 0.008000      5   0.40000 0.66667 0.072008\n"
     ]
    }
   ],
   "source": [
    "#plotcp(fit.tree)\n",
    "printcp(fit.tree)"
   ]
  },
  {
   "cell_type": "code",
   "execution_count": 10,
   "id": "697501e9-a35e-42ab-88fa-9020e1e086ff",
   "metadata": {},
   "outputs": [
    {
     "data": {
      "text/html": [
       "0.0333333333333333"
      ],
      "text/latex": [
       "0.0333333333333333"
      ],
      "text/markdown": [
       "0.0333333333333333"
      ],
      "text/plain": [
       "[1] 0.03333333"
      ]
     },
     "metadata": {},
     "output_type": "display_data"
    }
   ],
   "source": [
    "# Explicitly request the lowest cp value\n",
    "fit.tree$cptable[which.min(fit.tree$cptable[,\"xerror\"]),\"CP\"]"
   ]
  },
  {
   "cell_type": "code",
   "execution_count": 11,
   "id": "d86815f6-9495-4b9f-a192-7c259ac213d8",
   "metadata": {},
   "outputs": [
    {
     "data": {
      "image/png": "[encoded data removed]",
      "text/plain": [
       "plot without title"
      ]
     },
     "metadata": {
      "image/png": {
       "height": 420,
       "width": 420
      }
     },
     "output_type": "display_data"
    }
   ],
   "source": [
    "bestcp <-fit.tree$cptable[which.min(fit.tree$cptable[,\"xerror\"]),\"CP\"]\n",
    "pruned.tree <- prune(fit.tree, cp = bestcp)\n",
    "rpart.plot(pruned.tree)"
   ]
  },
  {
   "cell_type": "code",
   "execution_count": 12,
   "id": "ab772ad6-120d-4cef-914c-3c9011dba9b0",
   "metadata": {},
   "outputs": [
    {
     "data": {
      "text/plain": [
       "          High.test\n",
       "pred.prune No Yes\n",
       "       No  96  22\n",
       "       Yes 30  52"
      ]
     },
     "metadata": {},
     "output_type": "display_data"
    }
   ],
   "source": [
    "# Alternate specification\n",
    "pred.prune = predict(pruned.tree, Carseats.test, type=\"class\")\n",
    "table(pred.prune, High.test)"
   ]
  },
  {
   "cell_type": "code",
   "execution_count": 13,
   "id": "039d737a-bea1-4edc-bd1c-9b38012b812b",
   "metadata": {},
   "outputs": [
    {
     "data": {
      "text/plain": [
       "n= 200 \n",
       "\n",
       "node), split, n, deviance, yval\n",
       "      * denotes terminal node\n",
       "\n",
       "  1) root 200 1596.13500  7.720450  \n",
       "    2) ShelveLoc=Bad,Medium 154  908.83350  6.902727  \n",
       "      4) Price>=92.5 132  665.46350  6.458030  \n",
       "        8) ShelveLoc=Bad 41  186.98880  4.909024  \n",
       "         16) CompPrice< 137.5 31   93.80490  4.369677  \n",
       "           32) Price>=102.5 24   46.87750  3.850417  \n",
       "             64) Income>=78 10   15.49221  2.933000 *\n",
       "             65) Income< 78 14   16.95694  4.505714 *\n",
       "           33) Price< 102.5 7   18.26940  6.150000 *\n",
       "         17) CompPrice>=137.5 10   56.21109  6.581000 *\n",
       "        9) ShelveLoc=Medium 91  335.77520  7.155934  \n",
       "         18) Advertising< 13.5 70  217.43040  6.699429  \n",
       "           36) CompPrice< 141.5 55  129.23440  6.286727  \n",
       "             72) Price>=124.5 20   26.05848  5.414000  \n",
       "              144) Income< 85 12    7.11050  4.735000 *\n",
       "              145) Income>=85 8    5.11675  6.432500 *\n",
       "             73) Price< 124.5 35   79.23827  6.785429  \n",
       "              146) CompPrice< 122 21   36.81240  6.230000 *\n",
       "              147) CompPrice>=122 14   26.22957  7.618571 *\n",
       "           37) CompPrice>=141.5 15   44.47989  8.212667 *\n",
       "         19) Advertising>=13.5 21   55.13098  8.677619  \n",
       "           38) Age>=42 13   27.06840  7.970000 *\n",
       "           39) Age< 42 8   10.97535  9.827500 *\n",
       "      5) Price< 92.5 22   60.64398  9.570909  \n",
       "       10) Price>=75 15   34.02537  8.978667 *\n",
       "       11) Price< 75 7   10.08320 10.840000 *\n",
       "    3) ShelveLoc=Good 46  239.58290 10.458040  \n",
       "      6) Price>=135 7   16.43160  7.260000 *\n",
       "      7) Price< 135 39  138.70900 11.032050  \n",
       "       14) Price>=97.5 26   91.14694 10.438460  \n",
       "         28) Advertising< 11.5 18   52.84876  9.887222 *\n",
       "         29) Advertising>=11.5 8   20.52209 11.678750 *\n",
       "       15) Price< 97.5 13   20.07889 12.219230 *"
      ]
     },
     "metadata": {},
     "output_type": "display_data"
    }
   ],
   "source": [
    "# Remove the variable High variable from the data.\n",
    "Carseats.S <- Carseats[,-12]\n",
    "set.seed(234)\n",
    "train = sample(1:nrow(Carseats.S), 200)\n",
    "Carseats.train=Carseats.S[train,]\n",
    "Carseats.test=Carseats.S[-train,]\n",
    "# Build the regression tree on the training set\n",
    "fit.tree = rpart(Sales ~ ., data=Carseats.train, method=\"anova\", cp=0.008)\n",
    "#summary(fit.tree)\n",
    "fit.tree"
   ]
  },
  {
   "cell_type": "code",
   "execution_count": 14,
   "id": "cb56d4a3-3227-437b-af62-9d95a94797e2",
   "metadata": {},
   "outputs": [
    {
     "data": {
      "image/png": "[encoded data removed]",
      "text/plain": [
       "plot without title"
      ]
     },
     "metadata": {
      "image/png": {
       "height": 420,
       "width": 420
      }
     },
     "output_type": "display_data"
    }
   ],
   "source": [
    "rpart.plot(fit.tree)"
   ]
  },
  {
   "cell_type": "code",
   "execution_count": 15,
   "id": "0109676a-342d-4e98-8d7c-159abcfd0c4b",
   "metadata": {},
   "outputs": [
    {
     "data": {
      "text/html": [
       "<style>\n",
       ".dl-inline {width: auto; margin:0; padding: 0}\n",
       ".dl-inline>dt, .dl-inline>dd {float: none; width: auto; display: inline-block}\n",
       ".dl-inline>dt::after {content: \":\\0020\"; padding-right: .5ex}\n",
       ".dl-inline>dt:not(:first-of-type) {padding-left: .5ex}\n",
       "</style><dl class=dl-inline><dt>ShelveLoc</dt><dd>590.41801234029</dd><dt>Price</dt><dd>389.383610660607</dd><dt>CompPrice</dt><dd>153.34965978354</dd><dt>Advertising</dt><dd>100.448779538817</dd><dt>Income</dt><dd>55.0437707118083</dd><dt>Age</dt><dd>31.9172764728109</dd><dt>Population</dt><dd>26.7862907672928</dd><dt>Education</dt><dd>19.2409775078501</dd><dt>US</dt><dd>8.18220992424245</dd><dt>Urban</dt><dd>2.13590386904761</dd></dl>\n"
      ],
      "text/latex": [
       "\\begin{description*}\n",
       "\\item[ShelveLoc] 590.41801234029\n",
       "\\item[Price] 389.383610660607\n",
       "\\item[CompPrice] 153.34965978354\n",
       "\\item[Advertising] 100.448779538817\n",
       "\\item[Income] 55.0437707118083\n",
       "\\item[Age] 31.9172764728109\n",
       "\\item[Population] 26.7862907672928\n",
       "\\item[Education] 19.2409775078501\n",
       "\\item[US] 8.18220992424245\n",
       "\\item[Urban] 2.13590386904761\n",
       "\\end{description*}\n"
      ],
      "text/markdown": [
       "ShelveLoc\n",
       ":   590.41801234029Price\n",
       ":   389.383610660607CompPrice\n",
       ":   153.34965978354Advertising\n",
       ":   100.448779538817Income\n",
       ":   55.0437707118083Age\n",
       ":   31.9172764728109Population\n",
       ":   26.7862907672928Education\n",
       ":   19.2409775078501US\n",
       ":   8.18220992424245Urban\n",
       ":   2.13590386904761\n",
       "\n"
      ],
      "text/plain": [
       "  ShelveLoc       Price   CompPrice Advertising      Income         Age \n",
       " 590.418012  389.383611  153.349660  100.448780   55.043771   31.917276 \n",
       " Population   Education          US       Urban \n",
       "  26.786291   19.240978    8.182210    2.135904 "
      ]
     },
     "metadata": {},
     "output_type": "display_data"
    }
   ],
   "source": [
    "fit.tree$variable.importance"
   ]
  },
  {
   "cell_type": "code",
   "execution_count": 16,
   "id": "9a1f893b-dc52-4f72-9d31-1afe891fb077",
   "metadata": {},
   "outputs": [
    {
     "data": {
      "text/html": [
       "4.53788583983924"
      ],
      "text/latex": [
       "4.53788583983924"
      ],
      "text/markdown": [
       "4.53788583983924"
      ],
      "text/plain": [
       "[1] 4.537886"
      ]
     },
     "metadata": {},
     "output_type": "display_data"
    }
   ],
   "source": [
    "#Predict Using the Regression Tree and Evaluate\n",
    "#Performance\n",
    "pred.tree = predict(fit.tree, Carseats.test)\n",
    "\n",
    "# Calcualte the mean square error\n",
    "mse <- mean((pred.tree - Carseats.test$Sales)^2)\n",
    "mse"
   ]
  },
  {
   "cell_type": "code",
   "execution_count": 17,
   "id": "7f748ace-2287-49e5-803a-d7265af21bef",
   "metadata": {},
   "outputs": [
    {
     "name": "stdout",
     "output_type": "stream",
     "text": [
      "\n",
      "Regression tree:\n",
      "rpart(formula = Sales ~ ., data = Carseats.train, method = \"anova\", \n",
      "    cp = 0.008)\n",
      "\n",
      "Variables actually used in tree construction:\n",
      "[1] Advertising Age         CompPrice   Income      Price       ShelveLoc  \n",
      "\n",
      "Root node error: 1596.1/200 = 7.9807\n",
      "\n",
      "n= 200 \n",
      "\n",
      "          CP nsplit rel error  xerror     xstd\n",
      "1  0.2805017      0   1.00000 1.01274 0.086707\n",
      "2  0.1144803      1   0.71950 0.73668 0.064211\n",
      "3  0.0894032      2   0.60502 0.70898 0.068519\n",
      "4  0.0529042      3   0.51561 0.63450 0.060518\n",
      "5  0.0396043      4   0.46271 0.62745 0.062296\n",
      "6  0.0273887      5   0.42311 0.65640 0.069145\n",
      "7  0.0231639      6   0.39572 0.63721 0.067014\n",
      "8  0.0179546      7   0.37255 0.62940 0.066112\n",
      "9  0.0172186      8   0.35460 0.63026 0.067400\n",
      "10 0.0149973      9   0.33738 0.62986 0.067925\n",
      "11 0.0111370     10   0.32238 0.65073 0.068184\n",
      "12 0.0107054     11   0.31125 0.64495 0.067733\n",
      "13 0.0103597     12   0.30054 0.64443 0.067775\n",
      "14 0.0101472     13   0.29018 0.64781 0.067436\n",
      "15 0.0090396     14   0.28003 0.64474 0.067337\n",
      "16 0.0086655     15   0.27099 0.63910 0.066231\n",
      "17 0.0080000     16   0.26233 0.63740 0.066212\n"
     ]
    }
   ],
   "source": [
    "# Finding the best CP value\n",
    "printcp(fit.tree)"
   ]
  },
  {
   "cell_type": "code",
   "execution_count": 21,
   "id": "7e410f19-63bd-4504-ba3b-81dd413340c4",
   "metadata": {},
   "outputs": [
    {
     "data": {
      "text/html": [
       "0.0396043211091573"
      ],
      "text/latex": [
       "0.0396043211091573"
      ],
      "text/markdown": [
       "0.0396043211091573"
      ],
      "text/plain": [
       "[1] 0.03960432"
      ]
     },
     "metadata": {},
     "output_type": "display_data"
    }
   ],
   "source": [
    "bestcp <- fit.tree$cptable[which.min(fit.tree$cptable[,\"xerror\"]),\"CP\"]\n",
    "bestcp"
   ]
  },
  {
   "cell_type": "code",
   "execution_count": 22,
   "id": "93acb432-4c68-4d47-87c9-d721b7483da5",
   "metadata": {},
   "outputs": [
    {
     "data": {
      "image/png": "[encoded data removed]",
      "text/plain": [
       "plot without title"
      ]
     },
     "metadata": {
      "image/png": {
       "height": 420,
       "width": 420
      }
     },
     "output_type": "display_data"
    }
   ],
   "source": [
    "# Prune the tree with the best cp value (the lowest cross-validation error - xerror)\n",
    "pruned.tree <- prune(fit.tree, cp = bestcp)\n",
    "\n",
    "# Visualizing the pruned tree\n",
    "rpart.plot(pruned.tree)"
   ]
  },
  {
   "cell_type": "code",
   "execution_count": 23,
   "id": "dc6563cf-a498-4e7d-8ad5-4262d4c7591a",
   "metadata": {},
   "outputs": [
    {
     "data": {
      "text/html": [
       "<style>\n",
       ".dl-inline {width: auto; margin:0; padding: 0}\n",
       ".dl-inline>dt, .dl-inline>dd {float: none; width: auto; display: inline-block}\n",
       ".dl-inline>dt::after {content: \":\\0020\"; padding-right: .5ex}\n",
       ".dl-inline>dt:not(:first-of-type) {padding-left: .5ex}\n",
       "</style><dl class=dl-inline><dt>ShelveLoc</dt><dd>590.41801234029</dd><dt>Price</dt><dd>267.168272864092</dd><dt>CompPrice</dt><dd>16.6114531680441</dd><dt>Population</dt><dd>3.48047637314103</dd></dl>\n"
      ],
      "text/latex": [
       "\\begin{description*}\n",
       "\\item[ShelveLoc] 590.41801234029\n",
       "\\item[Price] 267.168272864092\n",
       "\\item[CompPrice] 16.6114531680441\n",
       "\\item[Population] 3.48047637314103\n",
       "\\end{description*}\n"
      ],
      "text/markdown": [
       "ShelveLoc\n",
       ":   590.41801234029Price\n",
       ":   267.168272864092CompPrice\n",
       ":   16.6114531680441Population\n",
       ":   3.48047637314103\n",
       "\n"
      ],
      "text/plain": [
       " ShelveLoc      Price  CompPrice Population \n",
       "590.418012 267.168273  16.611453   3.480476 "
      ]
     },
     "metadata": {},
     "output_type": "display_data"
    }
   ],
   "source": [
    "# Checking the order of variable importance\n",
    "pruned.tree$variable.importance"
   ]
  },
  {
   "cell_type": "code",
   "execution_count": 24,
   "id": "9c8caba3-1b49-4528-a4ab-d8553f8a3dd4",
   "metadata": {},
   "outputs": [
    {
     "data": {
      "text/html": [
       "5.18041204031385"
      ],
      "text/latex": [
       "5.18041204031385"
      ],
      "text/markdown": [
       "5.18041204031385"
      ],
      "text/plain": [
       "[1] 5.180412"
      ]
     },
     "metadata": {},
     "output_type": "display_data"
    }
   ],
   "source": [
    "# Use the test data to evaluate performance of pruned regression tree\n",
    "pred.prune = predict(pruned.tree, Carseats.test)\n",
    "# Calcualte the MSE for the pruned tree\n",
    "mse <- mean((pred.prune - Carseats.test$Sales)^2)\n",
    "mse"
   ]
  },
  {
   "cell_type": "code",
   "execution_count": null,
   "id": "d9bc7124-c5c8-4b2c-85a1-04d401a9e1b8",
   "metadata": {},
   "outputs": [],
   "source": []
  }
 ],
 "metadata": {
  "kernelspec": {
   "display_name": "R",
   "language": "R",
   "name": "ir"
  },
  "language_info": {
   "codemirror_mode": "r",
   "file_extension": ".r",
   "mimetype": "text/x-r-source",
   "name": "R",
   "pygments_lexer": "r",
   "version": "4.4.0"
  }
 },
 "nbformat": 4,
 "nbformat_minor": 5
}
