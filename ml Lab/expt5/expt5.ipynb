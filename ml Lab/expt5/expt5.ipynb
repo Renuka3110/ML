{
 "cells": [
  {
   "cell_type": "code",
   "execution_count": 1,
   "id": "20d10a16-850c-43ba-80c4-720167e1182d",
   "metadata": {
    "vscode": {
     "languageId": "r"
    }
   },
   "outputs": [
    {
     "name": "stderr",
     "output_type": "stream",
     "text": [
      "Warning message:\n",
      "\"package 'MASS' was built under R version 4.4.1\"\n",
      "\n",
      "Attaching package: 'dplyr'\n",
      "\n",
      "\n",
      "The following object is masked from 'package:MASS':\n",
      "\n",
      "    select\n",
      "\n",
      "\n",
      "The following objects are masked from 'package:stats':\n",
      "\n",
      "    filter, lag\n",
      "\n",
      "\n",
      "The following objects are masked from 'package:base':\n",
      "\n",
      "    intersect, setdiff, setequal, union\n",
      "\n",
      "\n",
      "Warning message:\n",
      "\"package 'ISLR' was built under R version 4.4.1\"\n"
     ]
    }
   ],
   "source": [
    "library(MASS)\n",
    "library(dplyr)\n",
    "library(ISLR)\n",
    "select <- dplyr::select"
   ]
  },
  {
   "cell_type": "code",
   "execution_count": 2,
   "id": "875eeb3f-6203-407a-85a0-2de034da14dc",
   "metadata": {
    "vscode": {
     "languageId": "r"
    }
   },
   "outputs": [
    {
     "name": "stdout",
     "output_type": "stream",
     "text": [
      "Call:\n",
      "lda(Direction ~ Lag1 + Lag2, data = train)\n",
      "\n",
      "Prior probabilities of groups:\n",
      "    Down       Up \n",
      "0.491984 0.508016 \n",
      "\n",
      "Group means:\n",
      "            Lag1        Lag2\n",
      "Down  0.04279022  0.03389409\n",
      "Up   -0.03954635 -0.03132544\n",
      "\n",
      "Coefficients of linear discriminants:\n",
      "            LD1\n",
      "Lag1 -0.6420190\n",
      "Lag2 -0.5135293\n"
     ]
    }
   ],
   "source": [
    "train = Smarket %>%\n",
    "  filter(Year < 2005)\n",
    "\n",
    "test = Smarket %>%\n",
    "  filter(Year >= 2005)\n",
    "\n",
    "model_LDA = lda(Direction~Lag1+Lag2, data = train)\n",
    "print(model_LDA)"
   ]
  },
  {
   "cell_type": "code",
   "execution_count": 3,
   "id": "37cd4a5a-55b4-45d8-9150-df26c4ee964a",
   "metadata": {
    "vscode": {
     "languageId": "r"
    }
   },
   "outputs": [
    {
     "data": {
      "image/png": "[encoded data removed]",
      "text/plain": [
       "plot without title"
      ]
     },
     "metadata": {
      "image/png": {
       "height": 420,
       "width": 420
      }
     },
     "output_type": "display_data"
    }
   ],
   "source": [
    "plot(model_LDA)"
   ]
  },
  {
   "cell_type": "code",
   "execution_count": 4,
   "id": "6c7f3131-260c-4956-a99c-d70ccec4c690",
   "metadata": {
    "vscode": {
     "languageId": "r"
    }
   },
   "outputs": [
    {
     "data": {
      "text/html": [
       "<style>\n",
       ".list-inline {list-style: none; margin:0; padding: 0}\n",
       ".list-inline>li {display: inline-block}\n",
       ".list-inline>li:not(:last-child)::after {content: \"\\00b7\"; padding: 0 .5ex}\n",
       "</style>\n",
       "<ol class=list-inline><li>'class'</li><li>'posterior.Down'</li><li>'posterior.Up'</li><li>'LD1'</li></ol>\n"
      ],
      "text/latex": [
       "\\begin{enumerate*}\n",
       "\\item 'class'\n",
       "\\item 'posterior.Down'\n",
       "\\item 'posterior.Up'\n",
       "\\item 'LD1'\n",
       "\\end{enumerate*}\n"
      ],
      "text/markdown": [
       "1. 'class'\n",
       "2. 'posterior.Down'\n",
       "3. 'posterior.Up'\n",
       "4. 'LD1'\n",
       "\n",
       "\n"
      ],
      "text/plain": [
       "[1] \"class\"          \"posterior.Down\" \"posterior.Up\"   \"LD1\"           "
      ]
     },
     "metadata": {},
     "output_type": "display_data"
    }
   ],
   "source": [
    "predictions_LDA = data.frame(predict(model_LDA, test))\n",
    "names(predictions_LDA)"
   ]
  },
  {
   "cell_type": "code",
   "execution_count": 5,
   "id": "af83e292-ff7b-4fbd-9cbf-f83a3ac83a36",
   "metadata": {
    "vscode": {
     "languageId": "r"
    }
   },
   "outputs": [
    {
     "data": {
      "text/html": [
       "<table class=\"dataframe\">\n",
       "<caption>A data.frame: 4 × 3</caption>\n",
       "<thead>\n",
       "\t<tr><th scope=col>class</th><th scope=col>Direction</th><th scope=col>n</th></tr>\n",
       "\t<tr><th scope=col>&lt;fct&gt;</th><th scope=col>&lt;fct&gt;</th><th scope=col>&lt;int&gt;</th></tr>\n",
       "</thead>\n",
       "<tbody>\n",
       "\t<tr><td>Down</td><td>Down</td><td> 35</td></tr>\n",
       "\t<tr><td>Down</td><td>Up  </td><td> 35</td></tr>\n",
       "\t<tr><td>Up  </td><td>Down</td><td> 76</td></tr>\n",
       "\t<tr><td>Up  </td><td>Up  </td><td>106</td></tr>\n",
       "</tbody>\n",
       "</table>\n"
      ],
      "text/latex": [
       "A data.frame: 4 × 3\n",
       "\\begin{tabular}{lll}\n",
       " class & Direction & n\\\\\n",
       " <fct> & <fct> & <int>\\\\\n",
       "\\hline\n",
       "\t Down & Down &  35\\\\\n",
       "\t Down & Up   &  35\\\\\n",
       "\t Up   & Down &  76\\\\\n",
       "\t Up   & Up   & 106\\\\\n",
       "\\end{tabular}\n"
      ],
      "text/markdown": [
       "\n",
       "A data.frame: 4 × 3\n",
       "\n",
       "| class &lt;fct&gt; | Direction &lt;fct&gt; | n &lt;int&gt; |\n",
       "|---|---|---|\n",
       "| Down | Down |  35 |\n",
       "| Down | Up   |  35 |\n",
       "| Up   | Down |  76 |\n",
       "| Up   | Up   | 106 |\n",
       "\n"
      ],
      "text/plain": [
       "  class Direction n  \n",
       "1 Down  Down       35\n",
       "2 Down  Up         35\n",
       "3 Up    Down       76\n",
       "4 Up    Up        106"
      ]
     },
     "metadata": {},
     "output_type": "display_data"
    },
    {
     "data": {
      "text/html": [
       "<table class=\"dataframe\">\n",
       "<caption>A data.frame: 1 × 1</caption>\n",
       "<thead>\n",
       "\t<tr><th scope=col>score</th></tr>\n",
       "\t<tr><th scope=col>&lt;dbl&gt;</th></tr>\n",
       "</thead>\n",
       "<tbody>\n",
       "\t<tr><td>0.5595238</td></tr>\n",
       "</tbody>\n",
       "</table>\n"
      ],
      "text/latex": [
       "A data.frame: 1 × 1\n",
       "\\begin{tabular}{l}\n",
       " score\\\\\n",
       " <dbl>\\\\\n",
       "\\hline\n",
       "\t 0.5595238\\\\\n",
       "\\end{tabular}\n"
      ],
      "text/markdown": [
       "\n",
       "A data.frame: 1 × 1\n",
       "\n",
       "| score &lt;dbl&gt; |\n",
       "|---|\n",
       "| 0.5595238 |\n",
       "\n"
      ],
      "text/plain": [
       "  score    \n",
       "1 0.5595238"
      ]
     },
     "metadata": {},
     "output_type": "display_data"
    }
   ],
   "source": [
    "predictions_LDA_2 = cbind(test, predictions_LDA)\n",
    "\n",
    "predictions_LDA_2 %>%\n",
    "  count(class, Direction)\n",
    "\n",
    "predictions_LDA_2 %>%\n",
    "  summarize(score = mean(class == Direction))"
   ]
  },
  {
   "cell_type": "code",
   "execution_count": 6,
   "id": "125e3d60-e62c-4e2f-ad79-333349c9e9a8",
   "metadata": {
    "vscode": {
     "languageId": "r"
    }
   },
   "outputs": [
    {
     "data": {
      "text/html": [
       "<table class=\"dataframe\">\n",
       "<caption>A data.frame: 4 × 3</caption>\n",
       "<thead>\n",
       "\t<tr><th scope=col>class</th><th scope=col>Direction</th><th scope=col>n</th></tr>\n",
       "\t<tr><th scope=col>&lt;chr&gt;</th><th scope=col>&lt;fct&gt;</th><th scope=col>&lt;int&gt;</th></tr>\n",
       "</thead>\n",
       "<tbody>\n",
       "\t<tr><td>Down</td><td>Down</td><td> 35</td></tr>\n",
       "\t<tr><td>Down</td><td>Up  </td><td> 35</td></tr>\n",
       "\t<tr><td>Up  </td><td>Down</td><td> 76</td></tr>\n",
       "\t<tr><td>Up  </td><td>Up  </td><td>106</td></tr>\n",
       "</tbody>\n",
       "</table>\n"
      ],
      "text/latex": [
       "A data.frame: 4 × 3\n",
       "\\begin{tabular}{lll}\n",
       " class & Direction & n\\\\\n",
       " <chr> & <fct> & <int>\\\\\n",
       "\\hline\n",
       "\t Down & Down &  35\\\\\n",
       "\t Down & Up   &  35\\\\\n",
       "\t Up   & Down &  76\\\\\n",
       "\t Up   & Up   & 106\\\\\n",
       "\\end{tabular}\n"
      ],
      "text/markdown": [
       "\n",
       "A data.frame: 4 × 3\n",
       "\n",
       "| class &lt;chr&gt; | Direction &lt;fct&gt; | n &lt;int&gt; |\n",
       "|---|---|---|\n",
       "| Down | Down |  35 |\n",
       "| Down | Up   |  35 |\n",
       "| Up   | Down |  76 |\n",
       "| Up   | Up   | 106 |\n",
       "\n"
      ],
      "text/plain": [
       "  class Direction n  \n",
       "1 Down  Down       35\n",
       "2 Down  Up         35\n",
       "3 Up    Down       76\n",
       "4 Up    Up        106"
      ]
     },
     "metadata": {},
     "output_type": "display_data"
    },
    {
     "data": {
      "text/html": [
       "<table class=\"dataframe\">\n",
       "<caption>A data.frame: 1 × 1</caption>\n",
       "<thead>\n",
       "\t<tr><th scope=col>score</th></tr>\n",
       "\t<tr><th scope=col>&lt;dbl&gt;</th></tr>\n",
       "</thead>\n",
       "<tbody>\n",
       "\t<tr><td>0.5595238</td></tr>\n",
       "</tbody>\n",
       "</table>\n"
      ],
      "text/latex": [
       "A data.frame: 1 × 1\n",
       "\\begin{tabular}{l}\n",
       " score\\\\\n",
       " <dbl>\\\\\n",
       "\\hline\n",
       "\t 0.5595238\\\\\n",
       "\\end{tabular}\n"
      ],
      "text/markdown": [
       "\n",
       "A data.frame: 1 × 1\n",
       "\n",
       "| score &lt;dbl&gt; |\n",
       "|---|\n",
       "| 0.5595238 |\n",
       "\n"
      ],
      "text/plain": [
       "  score    \n",
       "1 0.5595238"
      ]
     },
     "metadata": {},
     "output_type": "display_data"
    }
   ],
   "source": [
    "# Logistic model, for comparison\n",
    "model_logistic = glm(Direction~Lag1+Lag2, data=train ,family=binomial)\n",
    "\n",
    "logistic_probs = data.frame(probs = predict(model_logistic, test, type=\"response\"))\n",
    "\n",
    "predictions_logistic = logistic_probs %>%\n",
    "  mutate(class = ifelse(probs>.5, \"Up\", \"Down\"))\n",
    "\n",
    "predictions_logistic = cbind(test, predictions_logistic)\n",
    "\n",
    "predictions_logistic %>%\n",
    "  count(class, Direction)\n",
    "\n",
    "predictions_logistic %>%\n",
    "  summarize(score = mean(class == Direction))"
   ]
  },
  {
   "cell_type": "code",
   "execution_count": 7,
   "id": "a9bd1c1a-3c60-4fdc-9b8f-9166738393a6",
   "metadata": {
    "vscode": {
     "languageId": "r"
    }
   },
   "outputs": [
    {
     "data": {
      "text/plain": [
       "Call:\n",
       "qda(Direction ~ Lag1 + Lag2, data = train)\n",
       "\n",
       "Prior probabilities of groups:\n",
       "    Down       Up \n",
       "0.491984 0.508016 \n",
       "\n",
       "Group means:\n",
       "            Lag1        Lag2\n",
       "Down  0.04279022  0.03389409\n",
       "Up   -0.03954635 -0.03132544"
      ]
     },
     "metadata": {},
     "output_type": "display_data"
    }
   ],
   "source": [
    "#Quadratic Discriminant Analysis\n",
    "\n",
    "model_QDA = qda(Direction~Lag1+Lag2, data = train)\n",
    "model_QDA"
   ]
  },
  {
   "cell_type": "code",
   "execution_count": 8,
   "id": "3cbc462f-b9dd-4b99-be25-365e6f93b390",
   "metadata": {
    "vscode": {
     "languageId": "r"
    }
   },
   "outputs": [
    {
     "data": {
      "text/html": [
       "<table class=\"dataframe\">\n",
       "<caption>A data.frame: 4 × 3</caption>\n",
       "<thead>\n",
       "\t<tr><th scope=col>class</th><th scope=col>Direction</th><th scope=col>n</th></tr>\n",
       "\t<tr><th scope=col>&lt;fct&gt;</th><th scope=col>&lt;fct&gt;</th><th scope=col>&lt;int&gt;</th></tr>\n",
       "</thead>\n",
       "<tbody>\n",
       "\t<tr><td>Down</td><td>Down</td><td> 30</td></tr>\n",
       "\t<tr><td>Down</td><td>Up  </td><td> 20</td></tr>\n",
       "\t<tr><td>Up  </td><td>Down</td><td> 81</td></tr>\n",
       "\t<tr><td>Up  </td><td>Up  </td><td>121</td></tr>\n",
       "</tbody>\n",
       "</table>\n"
      ],
      "text/latex": [
       "A data.frame: 4 × 3\n",
       "\\begin{tabular}{lll}\n",
       " class & Direction & n\\\\\n",
       " <fct> & <fct> & <int>\\\\\n",
       "\\hline\n",
       "\t Down & Down &  30\\\\\n",
       "\t Down & Up   &  20\\\\\n",
       "\t Up   & Down &  81\\\\\n",
       "\t Up   & Up   & 121\\\\\n",
       "\\end{tabular}\n"
      ],
      "text/markdown": [
       "\n",
       "A data.frame: 4 × 3\n",
       "\n",
       "| class &lt;fct&gt; | Direction &lt;fct&gt; | n &lt;int&gt; |\n",
       "|---|---|---|\n",
       "| Down | Down |  30 |\n",
       "| Down | Up   |  20 |\n",
       "| Up   | Down |  81 |\n",
       "| Up   | Up   | 121 |\n",
       "\n"
      ],
      "text/plain": [
       "  class Direction n  \n",
       "1 Down  Down       30\n",
       "2 Down  Up         20\n",
       "3 Up    Down       81\n",
       "4 Up    Up        121"
      ]
     },
     "metadata": {},
     "output_type": "display_data"
    },
    {
     "data": {
      "text/html": [
       "<table class=\"dataframe\">\n",
       "<caption>A data.frame: 1 × 1</caption>\n",
       "<thead>\n",
       "\t<tr><th scope=col>score</th></tr>\n",
       "\t<tr><th scope=col>&lt;dbl&gt;</th></tr>\n",
       "</thead>\n",
       "<tbody>\n",
       "\t<tr><td>0.5992063</td></tr>\n",
       "</tbody>\n",
       "</table>\n"
      ],
      "text/latex": [
       "A data.frame: 1 × 1\n",
       "\\begin{tabular}{l}\n",
       " score\\\\\n",
       " <dbl>\\\\\n",
       "\\hline\n",
       "\t 0.5992063\\\\\n",
       "\\end{tabular}\n"
      ],
      "text/markdown": [
       "\n",
       "A data.frame: 1 × 1\n",
       "\n",
       "| score &lt;dbl&gt; |\n",
       "|---|\n",
       "| 0.5992063 |\n",
       "\n"
      ],
      "text/plain": [
       "  score    \n",
       "1 0.5992063"
      ]
     },
     "metadata": {},
     "output_type": "display_data"
    }
   ],
   "source": [
    "predictions_QDA = data.frame(predict(model_QDA, test))\n",
    "\n",
    "predictions_QDA = cbind(test, predictions_QDA)\n",
    "\n",
    "predictions_QDA %>%\n",
    "  count(class, Direction)\n",
    "\n",
    "predictions_QDA %>%\n",
    "  summarize(score = mean(class == Direction))"
   ]
  },
  {
   "cell_type": "code",
   "execution_count": null,
   "id": "f4aa78c0-2e5a-4edb-96df-349c47d1fc81",
   "metadata": {
    "vscode": {
     "languageId": "r"
    }
   },
   "outputs": [],
   "source": []
  }
 ],
 "metadata": {
  "kernelspec": {
   "display_name": "R",
   "language": "R",
   "name": "ir"
  },
  "language_info": {
   "codemirror_mode": "r",
   "file_extension": ".r",
   "mimetype": "text/x-r-source",
   "name": "R",
   "pygments_lexer": "r",
   "version": "4.4.0"
  }
 },
 "nbformat": 4,
 "nbformat_minor": 5
}
