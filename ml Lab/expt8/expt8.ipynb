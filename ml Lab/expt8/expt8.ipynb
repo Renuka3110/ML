{
 "cells": [
  {
   "cell_type": "code",
   "execution_count": null,
   "id": "9d63f91b-dd44-4396-be94-c6b3cee0fcc1",
   "metadata": {},
   "outputs": [],
   "source": [
    "USArrests[1:10,]"
   ]
  },
  {
   "cell_type": "code",
   "execution_count": null,
   "id": "731caa8b-2ca5-457e-8044-0e23312bdcee",
   "metadata": {},
   "outputs": [],
   "source": [
    "#To perform PCA on USArrests data:\n",
    "prcomp(USArrests)"
   ]
  },
  {
   "cell_type": "code",
   "execution_count": null,
   "id": "45db2a24-274e-4ae3-82b7-9adad324e797",
   "metadata": {},
   "outputs": [],
   "source": [
    "plot(prcomp(USArrests))"
   ]
  },
  {
   "cell_type": "code",
   "execution_count": null,
   "id": "b67b4ae1-182f-492d-8d99-29e35b000a81",
   "metadata": {},
   "outputs": [],
   "source": [
    "summary(prcomp(USArrests))"
   ]
  },
  {
   "cell_type": "code",
   "execution_count": null,
   "id": "7edd0660-1421-4994-9328-ed47b869aac0",
   "metadata": {},
   "outputs": [],
   "source": [
    "plot(prcomp(USArrests,scale=T))"
   ]
  },
  {
   "cell_type": "code",
   "execution_count": null,
   "id": "be0d2a4f-fbfa-4248-8b91-7937f427c84a",
   "metadata": {},
   "outputs": [],
   "source": [
    "summary(prcomp(USArrests,scale=T))"
   ]
  },
  {
   "cell_type": "code",
   "execution_count": null,
   "id": "6c044f47-95fc-40ea-9b91-71aa4cfb1a0a",
   "metadata": {},
   "outputs": [],
   "source": [
    "prcomp(USArrests,scale=T)"
   ]
  },
  {
   "cell_type": "code",
   "execution_count": null,
   "id": "8f305490-368a-4cad-8dd0-c2990aac0e47",
   "metadata": {},
   "outputs": [],
   "source": [
    "plot(prcomp(USArrests,scale=T)$x[,1:2])"
   ]
  },
  {
   "cell_type": "code",
   "execution_count": null,
   "id": "0b24db6b-7799-499f-b9ef-158d65f88f65",
   "metadata": {},
   "outputs": [],
   "source": [
    "plot(prcomp(USArrests,scale=T)$x[,1:2],type=\"n\")\n",
    "text(prcomp(USArrests,scale=T)$x[,1:2],rownames(USArrests))"
   ]
  },
  {
   "cell_type": "code",
   "execution_count": null,
   "id": "7f528dcc-0c23-47aa-bf8a-e54622033083",
   "metadata": {},
   "outputs": [],
   "source": [
    "biplot(prcomp(USArrests,scale=T))"
   ]
  }
 ],
 "metadata": {
  "kernelspec": {
   "display_name": "R",
   "language": "R",
   "name": "ir"
  },
  "language_info": {
   "codemirror_mode": "r",
   "file_extension": ".r",
   "mimetype": "text/x-r-source",
   "name": "R",
   "pygments_lexer": "r",
   "version": "4.4.0"
  }
 },
 "nbformat": 4,
 "nbformat_minor": 5
}
