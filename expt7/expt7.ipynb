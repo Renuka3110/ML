{
 "cells": [
  {
   "cell_type": "code",
   "execution_count": null,
   "id": "4fafcaf0-b1c5-4304-aec6-0a1b8f383fc7",
   "metadata": {},
   "outputs": [],
   "source": [
    "#Support Vector Machines (SVM) are a powerful supervised machine learning technique, especially useful for classification and regression tasks. Below is a step-by-step guide to applying SVM using R with the e1071 package."
   ]
  },
  {
   "cell_type": "code",
   "execution_count": 12,
   "id": "7d4be3a3-5ae9-472a-8aa3-e199ea095181",
   "metadata": {},
   "outputs": [
    {
     "name": "stderr",
     "output_type": "stream",
     "text": [
      "Warning message:\n",
      "\"package 'e1071' is in use and will not be installed\"\n",
      "Warning message:\n",
      "\"package 'caret' is in use and will not be installed\"\n"
     ]
    }
   ],
   "source": [
    "# Install the 'e1071' package for SVM\n",
    "install.packages(\"e1071\")\n",
    "\n",
    "# If you are working with tidyverse-style data manipulation\n",
    "install.packages(\"caret\")   # For model training and validation\n"
   ]
  },
  {
   "cell_type": "code",
   "execution_count": 13,
   "id": "c7684f27-d2d0-4782-888d-757c3ea5f441",
   "metadata": {},
   "outputs": [
    {
     "data": {
      "text/html": [
       "<table class=\"dataframe\">\n",
       "<caption>A data.frame: 6 × 5</caption>\n",
       "<thead>\n",
       "\t<tr><th></th><th scope=col>Sepal.Length</th><th scope=col>Sepal.Width</th><th scope=col>Petal.Length</th><th scope=col>Petal.Width</th><th scope=col>Species</th></tr>\n",
       "\t<tr><th></th><th scope=col>&lt;dbl&gt;</th><th scope=col>&lt;dbl&gt;</th><th scope=col>&lt;dbl&gt;</th><th scope=col>&lt;dbl&gt;</th><th scope=col>&lt;fct&gt;</th></tr>\n",
       "</thead>\n",
       "<tbody>\n",
       "\t<tr><th scope=row>1</th><td>5.1</td><td>3.5</td><td>1.4</td><td>0.2</td><td>setosa</td></tr>\n",
       "\t<tr><th scope=row>2</th><td>4.9</td><td>3.0</td><td>1.4</td><td>0.2</td><td>setosa</td></tr>\n",
       "\t<tr><th scope=row>3</th><td>4.7</td><td>3.2</td><td>1.3</td><td>0.2</td><td>setosa</td></tr>\n",
       "\t<tr><th scope=row>4</th><td>4.6</td><td>3.1</td><td>1.5</td><td>0.2</td><td>setosa</td></tr>\n",
       "\t<tr><th scope=row>5</th><td>5.0</td><td>3.6</td><td>1.4</td><td>0.2</td><td>setosa</td></tr>\n",
       "\t<tr><th scope=row>6</th><td>5.4</td><td>3.9</td><td>1.7</td><td>0.4</td><td>setosa</td></tr>\n",
       "</tbody>\n",
       "</table>\n"
      ],
      "text/latex": [
       "A data.frame: 6 × 5\n",
       "\\begin{tabular}{r|lllll}\n",
       "  & Sepal.Length & Sepal.Width & Petal.Length & Petal.Width & Species\\\\\n",
       "  & <dbl> & <dbl> & <dbl> & <dbl> & <fct>\\\\\n",
       "\\hline\n",
       "\t1 & 5.1 & 3.5 & 1.4 & 0.2 & setosa\\\\\n",
       "\t2 & 4.9 & 3.0 & 1.4 & 0.2 & setosa\\\\\n",
       "\t3 & 4.7 & 3.2 & 1.3 & 0.2 & setosa\\\\\n",
       "\t4 & 4.6 & 3.1 & 1.5 & 0.2 & setosa\\\\\n",
       "\t5 & 5.0 & 3.6 & 1.4 & 0.2 & setosa\\\\\n",
       "\t6 & 5.4 & 3.9 & 1.7 & 0.4 & setosa\\\\\n",
       "\\end{tabular}\n"
      ],
      "text/markdown": [
       "\n",
       "A data.frame: 6 × 5\n",
       "\n",
       "| <!--/--> | Sepal.Length &lt;dbl&gt; | Sepal.Width &lt;dbl&gt; | Petal.Length &lt;dbl&gt; | Petal.Width &lt;dbl&gt; | Species &lt;fct&gt; |\n",
       "|---|---|---|---|---|---|\n",
       "| 1 | 5.1 | 3.5 | 1.4 | 0.2 | setosa |\n",
       "| 2 | 4.9 | 3.0 | 1.4 | 0.2 | setosa |\n",
       "| 3 | 4.7 | 3.2 | 1.3 | 0.2 | setosa |\n",
       "| 4 | 4.6 | 3.1 | 1.5 | 0.2 | setosa |\n",
       "| 5 | 5.0 | 3.6 | 1.4 | 0.2 | setosa |\n",
       "| 6 | 5.4 | 3.9 | 1.7 | 0.4 | setosa |\n",
       "\n"
      ],
      "text/plain": [
       "  Sepal.Length Sepal.Width Petal.Length Petal.Width Species\n",
       "1 5.1          3.5         1.4          0.2         setosa \n",
       "2 4.9          3.0         1.4          0.2         setosa \n",
       "3 4.7          3.2         1.3          0.2         setosa \n",
       "4 4.6          3.1         1.5          0.2         setosa \n",
       "5 5.0          3.6         1.4          0.2         setosa \n",
       "6 5.4          3.9         1.7          0.4         setosa "
      ]
     },
     "metadata": {},
     "output_type": "display_data"
    }
   ],
   "source": [
    "# Load necessary libraries\n",
    "library(e1071)\n",
    "library(caret)\n",
    "\n",
    "# Load the iris dataset\n",
    "data(iris)\n",
    "head(iris)\n"
   ]
  },
  {
   "cell_type": "code",
   "execution_count": 14,
   "id": "868823ed-9270-4364-8f14-9a86f38bac69",
   "metadata": {},
   "outputs": [],
   "source": [
    "# Split the dataset into training (70%) and test (30%) sets\n",
    "set.seed(123)  # For reproducibility\n",
    "index <- createDataPartition(iris$Species, p = 0.7, list = FALSE)\n",
    "\n",
    "train_data <- iris[index, ]\n",
    "test_data <- iris[-index, ]\n"
   ]
  },
  {
   "cell_type": "code",
   "execution_count": 15,
   "id": "0ef4c9ae-79a6-4c60-9a62-d129a279ab2b",
   "metadata": {},
   "outputs": [
    {
     "data": {
      "text/plain": [
       "\n",
       "Call:\n",
       "svm(formula = Species ~ ., data = train_data, kernel = \"linear\", \n",
       "    cost = 1, scale = TRUE)\n",
       "\n",
       "\n",
       "Parameters:\n",
       "   SVM-Type:  C-classification \n",
       " SVM-Kernel:  linear \n",
       "       cost:  1 \n",
       "\n",
       "Number of Support Vectors:  22\n",
       "\n",
       " ( 2 10 10 )\n",
       "\n",
       "\n",
       "Number of Classes:  3 \n",
       "\n",
       "Levels: \n",
       " setosa versicolor virginica\n",
       "\n",
       "\n"
      ]
     },
     "metadata": {},
     "output_type": "display_data"
    }
   ],
   "source": [
    "# Train the SVM model using a linear kernel\n",
    "svm_model <- svm(Species ~ ., data = train_data, kernel = \"linear\", cost = 1, \n",
    "                 scale = TRUE)\n",
    "\n",
    "# View the summary of the model\n",
    "summary(svm_model)\n"
   ]
  },
  {
   "cell_type": "code",
   "execution_count": 16,
   "id": "0cc03238-51cb-4e7b-b5a8-7623496a6e4d",
   "metadata": {},
   "outputs": [
    {
     "name": "stdout",
     "output_type": "stream",
     "text": [
      "         1          2          6         16         18         20         22 \n",
      "    setosa     setosa     setosa     setosa     setosa     setosa     setosa \n",
      "        23         34         35         38         39         44         46 \n",
      "    setosa     setosa     setosa     setosa     setosa     setosa     setosa \n",
      "        47         51         53         54         64         72         74 \n",
      "    setosa versicolor versicolor versicolor versicolor versicolor versicolor \n",
      "        78         81         85         87         90         91         94 \n",
      "versicolor versicolor versicolor versicolor versicolor versicolor versicolor \n",
      "        99        100        101        106        109        111        116 \n",
      "versicolor versicolor  virginica  virginica  virginica  virginica  virginica \n",
      "       117        120        124        127        133        134        136 \n",
      " virginica  virginica  virginica  virginica  virginica versicolor  virginica \n",
      "       137        149        150 \n",
      " virginica  virginica  virginica \n",
      "Levels: setosa versicolor virginica\n"
     ]
    }
   ],
   "source": [
    "# Predict the species for the test data\n",
    "predictions <- predict(svm_model, test_data)\n",
    "\n",
    "# Print the predictions\n",
    "print(predictions)\n"
   ]
  },
  {
   "cell_type": "code",
   "execution_count": 17,
   "id": "213eae5a-6f8f-478d-a642-d1963aca871b",
   "metadata": {},
   "outputs": [
    {
     "name": "stdout",
     "output_type": "stream",
     "text": [
      "Confusion Matrix and Statistics\n",
      "\n",
      "            Reference\n",
      "Prediction   setosa versicolor virginica\n",
      "  setosa         15          0         0\n",
      "  versicolor      0         15         1\n",
      "  virginica       0          0        14\n",
      "\n",
      "Overall Statistics\n",
      "                                          \n",
      "               Accuracy : 0.9778          \n",
      "                 95% CI : (0.8823, 0.9994)\n",
      "    No Information Rate : 0.3333          \n",
      "    P-Value [Acc > NIR] : < 2.2e-16       \n",
      "                                          \n",
      "                  Kappa : 0.9667          \n",
      "                                          \n",
      " Mcnemar's Test P-Value : NA              \n",
      "\n",
      "Statistics by Class:\n",
      "\n",
      "                     Class: setosa Class: versicolor Class: virginica\n",
      "Sensitivity                 1.0000            1.0000           0.9333\n",
      "Specificity                 1.0000            0.9667           1.0000\n",
      "Pos Pred Value              1.0000            0.9375           1.0000\n",
      "Neg Pred Value              1.0000            1.0000           0.9677\n",
      "Prevalence                  0.3333            0.3333           0.3333\n",
      "Detection Rate              0.3333            0.3333           0.3111\n",
      "Detection Prevalence        0.3333            0.3556           0.3111\n",
      "Balanced Accuracy           1.0000            0.9833           0.9667\n"
     ]
    }
   ],
   "source": [
    "# Confusion Matrix to evaluate accuracy\n",
    "conf_matrix <- confusionMatrix(predictions, test_data$Species)\n",
    "print(conf_matrix)\n"
   ]
  },
  {
   "cell_type": "code",
   "execution_count": 18,
   "id": "211955d7-9122-4fc6-87ce-7dd97dbe9379",
   "metadata": {},
   "outputs": [
    {
     "name": "stdout",
     "output_type": "stream",
     "text": [
      "  gamma cost\n",
      "5   0.5    1\n",
      "Confusion Matrix and Statistics\n",
      "\n",
      "            Reference\n",
      "Prediction   setosa versicolor virginica\n",
      "  setosa         15          0         0\n",
      "  versicolor      0         14         2\n",
      "  virginica       0          1        13\n",
      "\n",
      "Overall Statistics\n",
      "                                         \n",
      "               Accuracy : 0.9333         \n",
      "                 95% CI : (0.8173, 0.986)\n",
      "    No Information Rate : 0.3333         \n",
      "    P-Value [Acc > NIR] : < 2.2e-16      \n",
      "                                         \n",
      "                  Kappa : 0.9            \n",
      "                                         \n",
      " Mcnemar's Test P-Value : NA             \n",
      "\n",
      "Statistics by Class:\n",
      "\n",
      "                     Class: setosa Class: versicolor Class: virginica\n",
      "Sensitivity                 1.0000            0.9333           0.8667\n",
      "Specificity                 1.0000            0.9333           0.9667\n",
      "Pos Pred Value              1.0000            0.8750           0.9286\n",
      "Neg Pred Value              1.0000            0.9655           0.9355\n",
      "Prevalence                  0.3333            0.3333           0.3333\n",
      "Detection Rate              0.3333            0.3111           0.2889\n",
      "Detection Prevalence        0.3333            0.3556           0.3111\n",
      "Balanced Accuracy           1.0000            0.9333           0.9167\n"
     ]
    }
   ],
   "source": [
    "# Train using radial basis function (RBF) kernel and tune parameters\n",
    "tuned_model <- tune.svm(Species ~ ., data = train_data,\n",
    "                        kernel = \"radial\",\n",
    "                        cost = 10^(-1:2), gamma = c(0.1, 0.5, 1))\n",
    "\n",
    "# View best model parameters\n",
    "print(tuned_model$best.parameters)\n",
    "\n",
    "# Train final model with tuned parameters\n",
    "svm_model_tuned <- svm(Species ~ ., data = train_data, \n",
    "                       kernel = \"radial\", \n",
    "                       cost = tuned_model$best.parameters$cost, \n",
    "                       gamma = tuned_model$best.parameters$gamma)\n",
    "\n",
    "# Evaluate on test data\n",
    "predictions_tuned <- predict(svm_model_tuned, test_data)\n",
    "conf_matrix_tuned <- confusionMatrix(predictions_tuned, test_data$Species)\n",
    "print(conf_matrix_tuned)\n"
   ]
  },
  {
   "cell_type": "code",
   "execution_count": null,
   "id": "05cf8969-ca79-4840-b4f5-b3dbad1136cd",
   "metadata": {},
   "outputs": [],
   "source": []
  }
 ],
 "metadata": {
  "kernelspec": {
   "display_name": "R",
   "language": "R",
   "name": "ir"
  },
  "language_info": {
   "codemirror_mode": "r",
   "file_extension": ".r",
   "mimetype": "text/x-r-source",
   "name": "R",
   "pygments_lexer": "r",
   "version": "4.4.0"
  }
 },
 "nbformat": 4,
 "nbformat_minor": 5
}
